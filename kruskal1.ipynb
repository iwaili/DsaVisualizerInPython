{
  "cells": [
    {
      "cell_type": "code",
      "execution_count": 26,
      "metadata": {
        "id": "o-s0Mq1SIU4u"
      },
      "outputs": [],
      "source": [
        "import numpy as np\n",
        "import networkx as nx\n",
        "import matplotlib.pyplot as plt\n",
        "from google.colab import files\n",
        "xv=0\n",
        "def addXV():\n",
        "  global xv\n",
        "  xv=xv+1"
      ]
    },
    {
      "cell_type": "code",
      "execution_count": 6,
      "metadata": {
        "id": "oOPR8eGzIfez"
      },
      "outputs": [],
      "source": [
        "matrix=np.array([\n",
        "    [0, 25, 43, 12, 0, 50, 0, 0, 0, 0],    # Distance from city 1 to other cities\n",
        "    [25, 0, 0, 0, 67, 0, 0, 0, 0, 0],       # Distance from city 2 to other cities\n",
        "    [43, 0, 0, 0, 0, 0, 0, 0, 0, 0],        # Distance from city 3 to other cities\n",
        "    [12, 0, 0, 0, 0, 0, 0, 0, 0, 0],        # Distance from city 4 to other cities\n",
        "    [0, 67, 0, 0, 0, 0, 0, 0, 0, 0],        # Distance from city 5 to other cities\n",
        "    [50, 0, 0, 0, 0, 0, 80, 0, 0, 0],       # Distance from city 6 to other cities\n",
        "    [0, 0, 0, 0, 0, 80, 0, 45, 0, 0],       # Distance from city 7 to other cities\n",
        "    [0, 0, 0, 0, 0, 0, 45, 0, 30, 0],       # Distance from city 8 to other cities\n",
        "    [0, 0, 0, 0, 0, 0, 0, 30, 0, 20],       # Distance from city 9 to other cities\n",
        "    [0, 0, 0, 0, 0, 0, 0, 0, 20, 0]         # Distance from city 10 to other cities\n",
        "])"
      ]
    },
    {
      "cell_type": "code",
      "source": [
        "def r(adjacency_matrix):\n",
        "  checkArray=[0] * (len(adjacency_matrix))\n",
        "  print(checkArray)\n",
        "  u=0\n",
        "  m=0\n",
        "  for i in adjacency_matrix:\n",
        "    u=0\n",
        "    for j in i:\n",
        "      if j!=0:\n",
        "        checkArray[u]=checkArray[u]+1\n",
        "        checkArray[m]=checkArray[m]+1\n",
        "      u=u+1\n",
        "    m=m+1\n",
        "  print(checkArray)\n",
        "r(matrix)"
      ],
      "metadata": {
        "colab": {
          "base_uri": "https://localhost:8080/"
        },
        "id": "F-PoO539d3RI",
        "outputId": "4508a7e2-4528-4e4a-d6b2-7f7730aebd39"
      },
      "execution_count": 7,
      "outputs": [
        {
          "output_type": "stream",
          "name": "stdout",
          "text": [
            "[0, 0, 0, 0, 0, 0, 0, 0, 0, 0]\n",
            "[8, 4, 2, 2, 2, 4, 4, 4, 4, 2]\n"
          ]
        }
      ]
    },
    {
      "cell_type": "code",
      "execution_count": 8,
      "metadata": {
        "id": "PoxbG3lBJsn_"
      },
      "outputs": [],
      "source": [
        "def drawInitialGraph(adjacency_matrix):\n",
        "  print(adjacency_matrix)\n",
        "  G = nx.from_numpy_array(adjacency_matrix)\n",
        "   # Position nodes using the spring layout algorithm\n",
        "  #nx.draw(G, pos, with_labels=True, node_color='lightblue', node_size=1000, font_size=10)\n",
        "  # Set edge weights\n",
        "  weights = {(i, j): adjacency_matrix[i][j] for i in range(len(adjacency_matrix)) for j in range(len(adjacency_matrix)) if adjacency_matrix[i][j] != 0}\n",
        "  nx.set_edge_attributes(G, weights, 'weight')\n",
        "  pos = nx.spring_layout(G)\n",
        "  # Draw edge labels\n",
        "  #nx.draw_networkx_edge_labels(G, pos, edge_labels=labels)\n",
        "\n",
        "  coordinates_list = []\n",
        "  for node, coord in pos.items():\n",
        "      coordinates_list.append((node, coord))\n",
        "\n",
        "  #TO REMOVE NEGATIVE VALUES FROM coodinates_list\n",
        "  cord=[]\n",
        "  min1=0\n",
        "  min2=0\n",
        "  for a in coordinates_list:\n",
        "    print(a[1][0])\n",
        "    cord.append((a[1][0],a[1][1]))\n",
        "    if min1 > a[1][0]:\n",
        "      min1 = a[1][0]\n",
        "    if min2 > a[1][1]:\n",
        "      min2 = a[1][1]\n",
        "  print(cord)\n",
        "\n",
        "  #TO MAKE COORDINATES OF cord INTEGER NOT FLOAT\n",
        "  coord=[]\n",
        "  for a in cord:\n",
        "    coord.append((int(100*(a[0]+(-min1))),int(100*(a[1]+(-min2)))))\n",
        "  print(\"hellllo\",coord)\n",
        "\n",
        "  coordinates={}\n",
        "  for i, c in enumerate(coord, start=0):\n",
        "      coordinates[i] = c\n",
        "  print(coordinates)\n",
        "  edges = []\n",
        "  # Iterate over the adjacency matrix to find edges\n",
        "  for i in range(len(adjacency_matrix)):\n",
        "      for j in range(i+1, len(adjacency_matrix)):\n",
        "          if adjacency_matrix[i][j] != 0:\n",
        "              edge = (coordinates[i], coordinates[j])\n",
        "              edges.append(edge)\n",
        "\n",
        "  # Print the list of edges\n",
        "  print(\"Edges:\")\n",
        "  for edge in edges:\n",
        "      print(edge)\n",
        "\n",
        "  lines = []\n",
        "  print('-------------------------')\n",
        "  print(len(edge))\n",
        "  for tr in range(len(edges)):\n",
        "    lines.append(edges[tr])\n",
        "  print(lines)\n",
        "\n",
        "  rt=[\"1\",\"2\",\"3\",\"4\",\"5\",\"6\",\"7\"]\n",
        "  ui=0\n",
        "  # Create a plot\n",
        "  plt.figure()\n",
        "  up=0\n",
        "  for y in coord:\n",
        "    plt.scatter(y[0], y[1], s=100, color='black')\n",
        "    plt.text(y[0], y[1],str(up), fontsize=14, color='red', ha='center', va='bottom')\n",
        "    up=up+1\n",
        "  # Plot each line and calculate distance\n",
        "  for line in lines:\n",
        "      x_values = [point[0] for point in line]\n",
        "      y_values = [point[1] for point in line]\n",
        "      plt.plot(x_values, y_values, color='black', marker=None)\n",
        "\n",
        "      # Calculate distance between points\n",
        "      distance = np.sqrt((x_values[1] - x_values[0])**2 + (y_values[1] - y_values[0])**2)\n",
        "\n",
        "      # Display distance on the graph\n",
        "      x_center = (x_values[0] + x_values[1]) / 2\n",
        "      y_center = (y_values[0] + y_values[1]) / 2\n",
        "\n",
        "      plt.text(x_center, y_center,str(int(distance)), ha='center', va='bottom')\n",
        "      ui=ui+1\n",
        "  # Hide the axes\n",
        "  plt.axis('off')\n",
        "\n",
        "  # Show the plot\n",
        "  plt.show()\n",
        "\n",
        "  isItOk = input(\"is the graph ok? \")\n",
        "  if isItOk==\"1\":\n",
        "    print(\"We will now save this info \")\n",
        "    tempEdgeInfo=[]\n",
        "    for i in range(len(adjacency_matrix)):\n",
        "          for j in range(len(adjacency_matrix)):\n",
        "            if adjacency_matrix[i][j]!=0:\n",
        "              tempEdgeInfo.append({i,j})\n",
        "    print(tempEdgeInfo)\n",
        "    color_list = [\"black\"] * len(adjacency_matrix)\n",
        "    graphInfo = {\n",
        "        \"nodeCoordinates\" : coordinates,\n",
        "        \"EdgeInfo\" : tempEdgeInfo,\n",
        "        \"EdgeColor\" : color_list\n",
        "    }\n",
        "    print(graphInfo)\n",
        "    return graphInfo\n",
        "  else:\n",
        "    drawInitialGraph(adjacency_matrix)\n"
      ]
    },
    {
      "cell_type": "code",
      "execution_count": 9,
      "metadata": {
        "id": "uq7xsuGCqZ43",
        "colab": {
          "base_uri": "https://localhost:8080/",
          "height": 1000
        },
        "outputId": "c7e9f1c7-b4d8-4357-d448-8af9d002523f"
      },
      "outputs": [
        {
          "output_type": "stream",
          "name": "stdout",
          "text": [
            "{0: array([0.0607732 , 0.28438343]), 1: array([0.11626525, 0.60881639]), 2: array([-0.11494718,  0.37667003]), 3: array([0.41754873, 0.3296409 ]), 4: array([0.14673787, 0.7795529 ]), 5: array([-0.00017686,  0.01493721]), 6: array([-0.05308403, -0.20264546]), 7: array([-0.11890599, -0.45808481]), 8: array([-0.19328467, -0.7332706 ]), 9: array([-0.26092632, -1.        ])}\n",
            "0.06077320354258772\n",
            "0.11626524618495022\n",
            "-0.11494717590209964\n",
            "0.41754873354249045\n",
            "0.1467378659859166\n",
            "-0.00017686045740394958\n",
            "-0.05308402882068976\n",
            "-0.11890598902588419\n",
            "-0.1932846733989086\n",
            "-0.2609263216509583\n",
            "[(0.06077320354258772, 0.2843834251595499), (0.11626524618495022, 0.6088163933809752), (-0.11494717590209964, 0.37667002993406445), (0.41754873354249045, 0.32964090447499056), (0.1467378659859166, 0.7795529041868412), (-0.00017686045740394958, 0.014937207660838621), (-0.05308402882068976, -0.20264545532645659), (-0.11890598902588419, -0.4580848119118733), (-0.1932846733989086, -0.7332705975589315), (-0.2609263216509583, -1.0)]\n",
            "[(32, 128), (37, 160), (14, 137), (67, 132), (40, 177), (26, 101), (20, 79), (14, 54), (6, 26), (0, 0)]\n",
            "{0: (32, 128), 1: (37, 160), 2: (14, 137), 3: (67, 132), 4: (40, 177), 5: (26, 101), 6: (20, 79), 7: (14, 54), 8: (6, 26), 9: (0, 0)}\n",
            "Edges:\n",
            "((32, 128), (37, 160))\n",
            "((32, 128), (14, 137))\n",
            "((32, 128), (67, 132))\n",
            "((32, 128), (26, 101))\n",
            "((37, 160), (40, 177))\n",
            "((26, 101), (20, 79))\n",
            "((20, 79), (14, 54))\n",
            "((14, 54), (6, 26))\n",
            "((6, 26), (0, 0))\n",
            "-------------------------\n",
            "2\n",
            "[((32, 128), (37, 160)), ((32, 128), (14, 137)), ((32, 128), (67, 132)), ((32, 128), (26, 101)), ((37, 160), (40, 177)), ((26, 101), (20, 79)), ((20, 79), (14, 54)), ((14, 54), (6, 26)), ((6, 26), (0, 0))]\n"
          ]
        },
        {
          "output_type": "display_data",
          "data": {
            "text/plain": [
              "<Figure size 640x480 with 1 Axes>"
            ],
            "image/png": "[encoded data removed]"
          },
          "metadata": {}
        },
        {
          "output_type": "stream",
          "name": "stdout",
          "text": [
            "[0, 0, 0, 0, 0, 0, 0, 0, 0, 0]\n",
            "8\n",
            "4\n",
            "2\n",
            "2\n",
            "2\n",
            "4\n",
            "4\n",
            "4\n",
            "4\n",
            "2\n",
            "{'CoOrdinatesOfVertices': [(32, 128), (37, 160), (14, 137), (67, 132), (40, 177), (26, 101), (20, 79), (14, 54), (6, 26), (0, 0)], 'verticeNames': ['A', 'B', 'C', 'D', 'E', 'F', 'G', 'H', 'I', 'J'], 'edges': [{0, 1}, {0, 2}, {0, 3}, {0, 5}, {0, 1}, {1, 4}, {0, 2}, {0, 3}, {1, 4}, {0, 5}, {5, 6}, {5, 6}, {6, 7}, {6, 7}, {8, 7}, {8, 7}, {8, 9}, {8, 9}], 'edgeColor': {'(0,1)': 'blue', '(0,2)': 'blue', '(0,3)': 'blue', '(0,5)': 'blue', '(1,4)': 'blue', '(5,6)': 'blue', '(6,7)': 'blue', '(8,7)': 'blue', '(8,9)': 'blue'}, 'sphereColor': {'(0,1)': 'blue', '(0,2)': 'blue', '(0,3)': 'blue', '(0,5)': 'blue', '(1,4)': 'blue', '(5,6)': 'blue', '(6,7)': 'blue', '(8,7)': 'blue', '(8,9)': 'blue'}, 'textOnEdge': ['temp', 'temp', 'temp', 'temp', 'temp', 'temp', 'temp', 'temp', 'temp', 'temp', 'temp', 'temp', 'temp', 'temp', 'temp', 'temp', 'temp', 'temp'], 'toShowEdgeOrNot': ['1', '1', '1', '1', '1', '1', '1', '1', '1', '1', '1', '1', '1', '1', '1', '1', '1', '1']}\n"
          ]
        },
        {
          "output_type": "execute_result",
          "data": {
            "text/plain": [
              "{'CoOrdinatesOfVertices': [(32, 128),\n",
              "  (37, 160),\n",
              "  (14, 137),\n",
              "  (67, 132),\n",
              "  (40, 177),\n",
              "  (26, 101),\n",
              "  (20, 79),\n",
              "  (14, 54),\n",
              "  (6, 26),\n",
              "  (0, 0)],\n",
              " 'verticeNames': ['A', 'B', 'C', 'D', 'E', 'F', 'G', 'H', 'I', 'J'],\n",
              " 'edges': [{0, 1},\n",
              "  {0, 2},\n",
              "  {0, 3},\n",
              "  {0, 5},\n",
              "  {0, 1},\n",
              "  {1, 4},\n",
              "  {0, 2},\n",
              "  {0, 3},\n",
              "  {1, 4},\n",
              "  {0, 5},\n",
              "  {5, 6},\n",
              "  {5, 6},\n",
              "  {6, 7},\n",
              "  {6, 7},\n",
              "  {7, 8},\n",
              "  {7, 8},\n",
              "  {8, 9},\n",
              "  {8, 9}],\n",
              " 'edgeColor': {'(0,1)': 'blue',\n",
              "  '(0,2)': 'blue',\n",
              "  '(0,3)': 'blue',\n",
              "  '(0,5)': 'blue',\n",
              "  '(1,4)': 'blue',\n",
              "  '(5,6)': 'blue',\n",
              "  '(6,7)': 'blue',\n",
              "  '(8,7)': 'blue',\n",
              "  '(8,9)': 'blue'},\n",
              " 'sphereColor': {'(0,1)': 'blue',\n",
              "  '(0,2)': 'blue',\n",
              "  '(0,3)': 'blue',\n",
              "  '(0,5)': 'blue',\n",
              "  '(1,4)': 'blue',\n",
              "  '(5,6)': 'blue',\n",
              "  '(6,7)': 'blue',\n",
              "  '(8,7)': 'blue',\n",
              "  '(8,9)': 'blue'},\n",
              " 'textOnEdge': ['temp',\n",
              "  'temp',\n",
              "  'temp',\n",
              "  'temp',\n",
              "  'temp',\n",
              "  'temp',\n",
              "  'temp',\n",
              "  'temp',\n",
              "  'temp',\n",
              "  'temp',\n",
              "  'temp',\n",
              "  'temp',\n",
              "  'temp',\n",
              "  'temp',\n",
              "  'temp',\n",
              "  'temp',\n",
              "  'temp',\n",
              "  'temp'],\n",
              " 'toShowEdgeOrNot': ['1',\n",
              "  '1',\n",
              "  '1',\n",
              "  '1',\n",
              "  '1',\n",
              "  '1',\n",
              "  '1',\n",
              "  '1',\n",
              "  '1',\n",
              "  '1',\n",
              "  '1',\n",
              "  '1',\n",
              "  '1',\n",
              "  '1',\n",
              "  '1',\n",
              "  '1',\n",
              "  '1',\n",
              "  '1']}"
            ]
          },
          "metadata": {},
          "execution_count": 9
        }
      ],
      "source": [
        "def makeInitialInfo(adjacency_matrix):\n",
        "  name=[]\n",
        "  for i in range(len(adjacency_matrix)):\n",
        "    name.append(chr(ord('A')+i))\n",
        "  G = nx.from_numpy_array(adjacency_matrix)\n",
        "  pos = nx.spring_layout(G)\n",
        "\n",
        "  coordinates_list = []\n",
        "  for node, coord in pos.items():\n",
        "    coordinates_list.append((node, coord))\n",
        "  print(pos)\n",
        "  cord =[]\n",
        "  min1=0\n",
        "  min2=0\n",
        "  for a in coordinates_list:\n",
        "    print(a[1][0])\n",
        "    cord.append((a[1][0],a[1][1]))\n",
        "    if min1 > a[1][0]:\n",
        "      min1 = a[1][0]\n",
        "    if min2 > a[1][1]:\n",
        "      min2 = a[1][1]\n",
        "  print(cord)\n",
        "  coord=[]\n",
        "  for a in cord:\n",
        "    coord.append((int(100*(a[0]+(-min1))),int(100*(a[1]+(-min2)))))\n",
        "  print(coord)\n",
        "\n",
        "  ij='0'\n",
        "  hj=0\n",
        "  coordinates={}\n",
        "  for i, c in enumerate(coord, start=0):\n",
        "      coordinates[i] = c\n",
        "  print(coordinates)\n",
        "\n",
        "  edges = []\n",
        "\n",
        "  # Iterate over the adjacency matrix to find edges\n",
        "  for i in range(len(adjacency_matrix)):\n",
        "      for j in range(i+1, len(adjacency_matrix)):\n",
        "          if adjacency_matrix[i][j] != 0:\n",
        "              edge = (coordinates[i], coordinates[j])\n",
        "              edges.append(edge)\n",
        "  print(\"Edges:\")\n",
        "  for edge in edges:\n",
        "      print(edge)\n",
        "\n",
        "  lines = []\n",
        "  print('-------------------------')\n",
        "  print(len(edge))\n",
        "  for tr in range(len(edges)):\n",
        "    lines.append(edges[tr])\n",
        "  print(lines)\n",
        "  plt.figure()\n",
        "  tempInt=-1\n",
        "  for y in coord:\n",
        "    tempInt=tempInt+1\n",
        "    plt.scatter(y[0], y[1], s=100, color='black')\n",
        "    plt.text(y[0], y[1],name[tempInt], fontsize=14, color='red', ha='center', va='bottom')\n",
        "  for line in lines:\n",
        "      x_values = [point[0] for point in line]\n",
        "      y_values = [point[1] for point in line]\n",
        "      plt.plot(x_values, y_values,color=\"black\", marker=None)\n",
        "      distance = np.sqrt((x_values[1] - x_values[0])**2 + (y_values[1] - y_values[0])**2)\n",
        "      x_center = (x_values[0] + x_values[1]) / 2\n",
        "      y_center = (y_values[0] + y_values[1]) / 2\n",
        "      plt.text(x_center, y_center,\" \", ha='center', va='bottom')\n",
        "  plt.axis('off')\n",
        "  plt.show()\n",
        "  tempEdgeInfo=[]\n",
        "  noOfEdges=0\n",
        "  for i in range(len(adjacency_matrix)):\n",
        "    for j in range(len(adjacency_matrix)):\n",
        "      if adjacency_matrix[i][j]!=0:\n",
        "        tempEdgeInfo.append({i,j})\n",
        "        noOfEdges=noOfEdges+1\n",
        "  tempEdgeColor = {}\n",
        "  tempTextOnEdge = {}\n",
        "  TempToShowEdgeOrNot = {}\n",
        "  for i in tempEdgeInfo:\n",
        "    j=list(i)\n",
        "    tempEdgeInfo1 = f'({j[0]},{j[1]})'\n",
        "    tempEdgeColor[tempEdgeInfo1]=\"blue\"\n",
        "    tempTextOnEdge[tempEdgeInfo1] = 'None'\n",
        "    TempToShowEdgeOrNot[tempEdgeInfo1] = '1'\n",
        "  tempSphereColor = {}\n",
        "  for i in coord:\n",
        "    j=list(i)\n",
        "    tempSphereInfo1 = f'({j[0]},{j[1]})'\n",
        "    tempSphereColor[tempSphereInfo1] = 'black'\n",
        "  tempRedList = [\"red\"] * noOfEdges\n",
        "  tempTextOnEdge = [\"temp\"] * noOfEdges\n",
        "  TempToShowEdgeOrNot = ['1'] * noOfEdges\n",
        "  info = {\n",
        "      \"CoOrdinatesOfVertices\" : coord ,\n",
        "      \"verticeNames\" : name,\n",
        "      \"edges\" : tempEdgeInfo,\n",
        "      \"edgeColor\" : tempEdgeColor,\n",
        "      \"sphereColor\" : tempEdgeColor,\n",
        "      \"textOnEdge\" : tempTextOnEdge ,\n",
        "      \"toShowEdgeOrNot\" : TempToShowEdgeOrNot\n",
        "  }\n",
        "  checkArray=[0] * (len(adjacency_matrix))\n",
        "  print(checkArray)\n",
        "  u=0\n",
        "  m=0\n",
        "  for i in adjacency_matrix:\n",
        "    u=0\n",
        "    for j in i:\n",
        "      if j!=0:\n",
        "        checkArray[u]=checkArray[u]+1\n",
        "        checkArray[m]=checkArray[m]+1\n",
        "      u=u+1\n",
        "    m=m+1\n",
        "  j=0\n",
        "  for i in checkArray:\n",
        "    print(i)\n",
        "    if i==0:\n",
        "      del info['CoOrdinatesOfVertices'][j]\n",
        "    j=j+1\n",
        "  print(info)\n",
        "  return info\n",
        "makeInitialInfo(matrix)"
      ]
    },
    {
      "cell_type": "code",
      "execution_count": 27,
      "metadata": {
        "colab": {
          "base_uri": "https://localhost:8080/",
          "height": 1000
        },
        "id": "-_MB462kNO4M",
        "outputId": "f5d99096-401f-4113-ed2a-cf8ef58ff192"
      },
      "outputs": [
        {
          "output_type": "stream",
          "name": "stdout",
          "text": [
            "{0: array([0.31807098, 0.26469241]), 1: array([ 0.57549153, -0.0908383 ]), 2: array([0.34755571, 0.54803217]), 3: array([0.75486674, 0.5598469 ]), 4: array([ 0.69977695, -0.28965673]), 5: array([-0.025885  ,  0.19261236]), 6: array([-0.29327395,  0.08278464]), 7: array([-0.56407777, -0.12600272]), 8: array([-0.81252519, -0.41441444]), 9: array([-1.        , -0.72705629])}\n",
            "0.31807098247328564\n",
            "0.5754915330713234\n",
            "0.34755570881863324\n",
            "0.7548667440022703\n",
            "0.699776947526239\n",
            "-0.025885004362935126\n",
            "-0.2932739512013175\n",
            "-0.5640777653519748\n",
            "-0.8125251949755268\n",
            "-1.0\n",
            "[(0.31807098247328564, 0.2646924062710449), (0.5754915330713234, -0.09083830346769597), (0.34755570881863324, 0.5480321670893319), (0.7548667440022703, 0.5598468991648122), (0.699776947526239, -0.289656725044897), (-0.025885004362935126, 0.19261236238185656), (-0.2932739512013175, 0.08278463931128682), (-0.5640777653519748, -0.1260027197339554), (-0.8125251949755268, -0.4144144402599505), (-1.0, -0.7270562857118341)]\n",
            "[(131, 99), (157, 63), (134, 127), (175, 128), (169, 43), (97, 91), (70, 80), (43, 60), (18, 31), (0, 0)]\n",
            "{0: (131, 99), 1: (157, 63), 2: (134, 127), 3: (175, 128), 4: (169, 43), 5: (97, 91), 6: (70, 80), 7: (43, 60), 8: (18, 31), 9: (0, 0)}\n",
            "Edges:\n",
            "((131, 99), (157, 63))\n",
            "((131, 99), (134, 127))\n",
            "((131, 99), (175, 128))\n",
            "((131, 99), (97, 91))\n",
            "((157, 63), (169, 43))\n",
            "((97, 91), (70, 80))\n",
            "((70, 80), (43, 60))\n",
            "((43, 60), (18, 31))\n",
            "((18, 31), (0, 0))\n",
            "-------------------------\n",
            "2\n",
            "[((131, 99), (157, 63)), ((131, 99), (134, 127)), ((131, 99), (175, 128)), ((131, 99), (97, 91)), ((157, 63), (169, 43)), ((97, 91), (70, 80)), ((70, 80), (43, 60)), ((43, 60), (18, 31)), ((18, 31), (0, 0))]\n"
          ]
        },
        {
          "output_type": "display_data",
          "data": {
            "text/plain": [
              "<Figure size 640x480 with 1 Axes>"
            ],
            "image/png": "[encoded data removed]"
          },
          "metadata": {}
        },
        {
          "output_type": "stream",
          "name": "stdout",
          "text": [
            "[0, 0, 0, 0, 0, 0, 0, 0, 0, 0]\n",
            "8\n",
            "4\n",
            "2\n",
            "2\n",
            "2\n",
            "4\n",
            "4\n",
            "4\n",
            "4\n",
            "2\n",
            "{'CoOrdinatesOfVertices': [(131, 99), (157, 63), (134, 127), (175, 128), (169, 43), (97, 91), (70, 80), (43, 60), (18, 31), (0, 0)], 'verticeNames': ['A', 'B', 'C', 'D', 'E', 'F', 'G', 'H', 'I', 'J'], 'edges': [{0, 1}, {0, 2}, {0, 3}, {0, 5}, {0, 1}, {1, 4}, {0, 2}, {0, 3}, {1, 4}, {0, 5}, {5, 6}, {5, 6}, {6, 7}, {6, 7}, {8, 7}, {8, 7}, {8, 9}, {8, 9}], 'edgeColor': {'(0,1)': 'blue', '(0,2)': 'blue', '(0,3)': 'blue', '(0,5)': 'blue', '(1,4)': 'blue', '(5,6)': 'blue', '(6,7)': 'blue', '(8,7)': 'blue', '(8,9)': 'blue'}, 'sphereColor': {'(0,1)': 'blue', '(0,2)': 'blue', '(0,3)': 'blue', '(0,5)': 'blue', '(1,4)': 'blue', '(5,6)': 'blue', '(6,7)': 'blue', '(8,7)': 'blue', '(8,9)': 'blue'}, 'textOnEdge': ['temp', 'temp', 'temp', 'temp', 'temp', 'temp', 'temp', 'temp', 'temp', 'temp', 'temp', 'temp', 'temp', 'temp', 'temp', 'temp', 'temp', 'temp'], 'toShowEdgeOrNot': ['1', '1', '1', '1', '1', '1', '1', '1', '1', '1', '1', '1', '1', '1', '1', '1', '1', '1']}\n",
            "{'CoOrdinatesOfVertices': [(131, 99), (157, 63), (134, 127), (175, 128), (169, 43), (97, 91), (70, 80), (43, 60), (18, 31), (0, 0)], 'verticeNames': ['A', 'B', 'C', 'D', 'E', 'F', 'G', 'H', 'I', 'J'], 'edges': [{0, 1}, {0, 2}, {0, 3}, {0, 5}, {0, 1}, {1, 4}, {0, 2}, {0, 3}, {1, 4}, {0, 5}, {5, 6}, {5, 6}, {6, 7}, {6, 7}, {8, 7}, {8, 7}, {8, 9}, {8, 9}], 'edgeColor': {'(0,1)': 'blue', '(0,2)': 'blue', '(0,3)': 'blue', '(0,5)': 'blue', '(1,4)': 'blue', '(5,6)': 'blue', '(6,7)': 'blue', '(8,7)': 'blue', '(8,9)': 'blue'}, 'sphereColor': {'(0,1)': 'blue', '(0,2)': 'blue', '(0,3)': 'blue', '(0,5)': 'blue', '(1,4)': 'blue', '(5,6)': 'blue', '(6,7)': 'blue', '(8,7)': 'blue', '(8,9)': 'blue'}, 'textOnEdge': ['temp', 'temp', 'temp', 'temp', 'temp', 'temp', 'temp', 'temp', 'temp', 'temp', 'temp', 'temp', 'temp', 'temp', 'temp', 'temp', 'temp', 'temp'], 'toShowEdgeOrNot': ['1', '1', '1', '1', '1', '1', '1', '1', '1', '1', '1', '1', '1', '1', '1', '1', '1', '1']}\n"
          ]
        }
      ],
      "source": [
        "'''\n",
        "info = {\n",
        "  vertices :\n",
        "  name :\n",
        "  edges :\n",
        "  color :\n",
        "  sphere color :\n",
        "}\n",
        "'''\n",
        "def drawGraph(info):\n",
        "  xvi=0\n",
        "  tempInt=0\n",
        "  for i, vertex in enumerate(info['CoOrdinatesOfVertices']):\n",
        "    plt.scatter(vertex[0], vertex[1], s=100, color='red')\n",
        "    plt.text(vertex[0], vertex[1], info['verticeNames'][tempInt], fontsize=14, color='black', ha='center', va='bottom')\n",
        "    tempInt=tempInt+1\n",
        "  tempInt=0\n",
        "  for edge1 in info['edges']:\n",
        "    edge = list(edge1)\n",
        "    print(tempInt)\n",
        "    x_values = [info['CoOrdinatesOfVertices'][edge[0]][0], info['CoOrdinatesOfVertices'][edge[1]][0]]\n",
        "    y_values = [info['CoOrdinatesOfVertices'][edge[0]][1], info['CoOrdinatesOfVertices'][edge[1]][1]]\n",
        "    tempEdgeInfo1 = f'({edge[0]},{edge[1]})'\n",
        "    plt.plot(x_values, y_values, color = info['edgeColor'][tempEdgeInfo1], marker=None)\n",
        "    x_center = (x_values[0] + x_values[1]) / 2\n",
        "    y_center = (y_values[0] + y_values[1]) / 2\n",
        "    plt.text(x_center, y_center,\" \", color='blue', ha='center', va='bottom')\n",
        "    tempInt=tempInt+1\n",
        "    '''\n",
        "  for edge1, color in zip(info['edges'], info['edgeColor']):\n",
        "    edge = list(edge1)\n",
        "    print(tempInt)\n",
        "    x_values = [info['CoOrdinatesOfVertices'][edge[0]][0], info['CoOrdinatesOfVertices'][edge[1]][0]]\n",
        "    y_values = [info['CoOrdinatesOfVertices'][edge[0]][1], info['CoOrdinatesOfVertices'][edge[1]][1]]\n",
        "    tempEdgeInfo1 = f'({edge[0]},{edge[1]})'\n",
        "    plt.plot(x_values, y_values, color = info['edgeColor'][tempEdgeInfo1], marker=None)\n",
        "    x_center = (x_values[0] + x_values[1]) / 2\n",
        "    y_center = (y_values[0] + y_values[1]) / 2\n",
        "    plt.text(x_center, y_center,\" \", color='blue', ha='center', va='bottom')\n",
        "    tempInt=tempInt+1\n",
        "    '''\n",
        "  plt.axis('off')\n",
        "  filename = f\"graph_{xv}.png\"  # Generate filename dynamically\n",
        "  addXV()\n",
        "  plt.savefig(filename)\n",
        "  print(f\"Saved graph as {filename}\")\n",
        "  files.download(filename)\n",
        "  plt.show()\n",
        "info = makeInitialInfo(matrix)\n",
        "print(info)"
      ]
    },
    {
      "cell_type": "code",
      "execution_count": 28,
      "metadata": {
        "id": "P48IjvabsaNG",
        "colab": {
          "base_uri": "https://localhost:8080/",
          "height": 1000
        },
        "outputId": "e2c8b0e3-ba5d-456f-b55a-9ac43a0ee76a"
      },
      "outputs": [
        {
          "output_type": "stream",
          "name": "stdout",
          "text": [
            "[[], [], [], [], [], [], [], [], [], []]\n",
            "{0: array([ 0.29078585, -0.03091772]), 1: array([ 0.49339363, -0.28828707]), 2: array([0.45996842, 0.02321461]), 3: array([0.52111501, 0.2810542 ]), 4: array([ 0.61367568, -0.42072957]), 5: array([0.00941715, 0.00635991]), 6: array([-0.20053672,  0.04246911]), 7: array([-0.45487704,  0.0838037 ]), 8: array([-0.73294198,  0.12957703]), 9: array([-1.        ,  0.17345581])}\n",
            "0.29078584569374044\n",
            "0.4933936327654456\n",
            "0.45996841836592123\n",
            "0.5211150127175399\n",
            "0.6136756842471485\n",
            "0.009417146101046554\n",
            "-0.2005367157634358\n",
            "-0.45487704108289134\n",
            "-0.732941983044514\n",
            "-1.0\n",
            "[(0.29078584569374044, -0.030917717183268273), (0.4933936327654456, -0.2882870677424888), (0.45996841836592123, 0.023214607201801882), (0.5211150127175399, 0.28105419508211454), (0.6136756842471485, -0.4207295739173018), (0.009417146101046554, 0.0063599103496923114), (-0.2005367157634358, 0.04246910934154515), (-0.45487704108289134, 0.08380369987186788), (-0.732941983044514, 0.12957703165507345), (-1.0, 0.17345580534096308)]\n",
            "[(129, 38), (149, 13), (145, 44), (152, 70), (161, 0), (100, 42), (79, 46), (54, 50), (26, 55), (0, 59)]\n",
            "{0: (129, 38), 1: (149, 13), 2: (145, 44), 3: (152, 70), 4: (161, 0), 5: (100, 42), 6: (79, 46), 7: (54, 50), 8: (26, 55), 9: (0, 59)}\n",
            "Edges:\n",
            "((129, 38), (149, 13))\n",
            "((129, 38), (145, 44))\n",
            "((129, 38), (152, 70))\n",
            "((129, 38), (100, 42))\n",
            "((149, 13), (161, 0))\n",
            "((100, 42), (79, 46))\n",
            "((79, 46), (54, 50))\n",
            "((54, 50), (26, 55))\n",
            "((26, 55), (0, 59))\n",
            "-------------------------\n",
            "2\n",
            "[((129, 38), (149, 13)), ((129, 38), (145, 44)), ((129, 38), (152, 70)), ((129, 38), (100, 42)), ((149, 13), (161, 0)), ((100, 42), (79, 46)), ((79, 46), (54, 50)), ((54, 50), (26, 55)), ((26, 55), (0, 59))]\n"
          ]
        },
        {
          "output_type": "display_data",
          "data": {
            "text/plain": [
              "<Figure size 640x480 with 1 Axes>"
            ],
            "image/png": "[encoded data removed]"
          },
          "metadata": {}
        },
        {
          "output_type": "stream",
          "name": "stdout",
          "text": [
            "[0, 0, 0, 0, 0, 0, 0, 0, 0, 0]\n",
            "8\n",
            "4\n",
            "2\n",
            "2\n",
            "2\n",
            "4\n",
            "4\n",
            "4\n",
            "4\n",
            "2\n",
            "{'CoOrdinatesOfVertices': [(129, 38), (149, 13), (145, 44), (152, 70), (161, 0), (100, 42), (79, 46), (54, 50), (26, 55), (0, 59)], 'verticeNames': ['A', 'B', 'C', 'D', 'E', 'F', 'G', 'H', 'I', 'J'], 'edges': [{0, 1}, {0, 2}, {0, 3}, {0, 5}, {0, 1}, {1, 4}, {0, 2}, {0, 3}, {1, 4}, {0, 5}, {5, 6}, {5, 6}, {6, 7}, {6, 7}, {8, 7}, {8, 7}, {8, 9}, {8, 9}], 'edgeColor': {'(0,1)': 'blue', '(0,2)': 'blue', '(0,3)': 'blue', '(0,5)': 'blue', '(1,4)': 'blue', '(5,6)': 'blue', '(6,7)': 'blue', '(8,7)': 'blue', '(8,9)': 'blue'}, 'sphereColor': {'(0,1)': 'blue', '(0,2)': 'blue', '(0,3)': 'blue', '(0,5)': 'blue', '(1,4)': 'blue', '(5,6)': 'blue', '(6,7)': 'blue', '(8,7)': 'blue', '(8,9)': 'blue'}, 'textOnEdge': ['temp', 'temp', 'temp', 'temp', 'temp', 'temp', 'temp', 'temp', 'temp', 'temp', 'temp', 'temp', 'temp', 'temp', 'temp', 'temp', 'temp', 'temp'], 'toShowEdgeOrNot': ['1', '1', '1', '1', '1', '1', '1', '1', '1', '1', '1', '1', '1', '1', '1', '1', '1', '1']}\n",
            "0\n",
            "[[], [], [], [], [], [], [], [], [], []]\n",
            "Cycle is present\n",
            "{'(0,2)': 17, '(1,4)': 17, '(5,6)': 21, '(6,7)': 25, '(8,9)': 26, '(8,7)': 28, '(0,5)': 29, '(0,1)': 32, '(0,3)': 39}\n",
            "0\n",
            "1\n",
            "2\n",
            "3\n",
            "4\n",
            "5\n",
            "6\n",
            "7\n",
            "8\n",
            "9\n",
            "10\n",
            "11\n",
            "12\n",
            "13\n",
            "14\n",
            "15\n",
            "16\n",
            "17\n",
            "Saved graph as graph_0.png\n"
          ]
        },
        {
          "output_type": "display_data",
          "data": {
            "text/plain": [
              "<IPython.core.display.Javascript object>"
            ],
            "application/javascript": [
              "\n",
              "    async function download(id, filename, size) {\n",
              "      if (!google.colab.kernel.accessAllowed) {\n",
              "        return;\n",
              "      }\n",
              "      const div = document.createElement('div');\n",
              "      const label = document.createElement('label');\n",
              "      label.textContent = `Downloading \"${filename}\": `;\n",
              "      div.appendChild(label);\n",
              "      const progress = document.createElement('progress');\n",
              "      progress.max = size;\n",
              "      div.appendChild(progress);\n",
              "      document.body.appendChild(div);\n",
              "\n",
              "      const buffers = [];\n",
              "      let downloaded = 0;\n",
              "\n",
              "      const channel = await google.colab.kernel.comms.open(id);\n",
              "      // Send a message to notify the kernel that we're ready.\n",
              "      channel.send({})\n",
              "\n",
              "      for await (const message of channel.messages) {\n",
              "        // Send a message to notify the kernel that we're ready.\n",
              "        channel.send({})\n",
              "        if (message.buffers) {\n",
              "          for (const buffer of message.buffers) {\n",
              "            buffers.push(buffer);\n",
              "            downloaded += buffer.byteLength;\n",
              "            progress.value = downloaded;\n",
              "          }\n",
              "        }\n",
              "      }\n",
              "      const blob = new Blob(buffers, {type: 'application/binary'});\n",
              "      const a = document.createElement('a');\n",
              "      a.href = window.URL.createObjectURL(blob);\n",
              "      a.download = filename;\n",
              "      div.appendChild(a);\n",
              "      a.click();\n",
              "      div.remove();\n",
              "    }\n",
              "  "
            ]
          },
          "metadata": {}
        },
        {
          "output_type": "display_data",
          "data": {
            "text/plain": [
              "<IPython.core.display.Javascript object>"
            ],
            "application/javascript": [
              "download(\"download_ff085bec-c1c5-42e7-a0c5-e63193993f17\", \"graph_0.png\", 16440)"
            ]
          },
          "metadata": {}
        },
        {
          "output_type": "display_data",
          "data": {
            "text/plain": [
              "<Figure size 640x480 with 1 Axes>"
            ],
            "image/png": "[encoded data removed]"
          },
          "metadata": {}
        },
        {
          "output_type": "stream",
          "name": "stdout",
          "text": [
            "1\n",
            "[[2], [], [0], [], [], [], [], [], [], []]\n",
            "Cycle is present\n",
            "{'(0,2)': 17, '(1,4)': 17, '(5,6)': 21, '(6,7)': 25, '(8,9)': 26, '(8,7)': 28, '(0,5)': 29, '(0,1)': 32, '(0,3)': 39}\n",
            "0\n",
            "1\n",
            "2\n",
            "3\n",
            "4\n",
            "5\n",
            "6\n",
            "7\n",
            "8\n",
            "9\n",
            "10\n",
            "11\n",
            "12\n",
            "13\n",
            "14\n",
            "15\n",
            "16\n",
            "17\n",
            "Saved graph as graph_1.png\n"
          ]
        },
        {
          "output_type": "display_data",
          "data": {
            "text/plain": [
              "<IPython.core.display.Javascript object>"
            ],
            "application/javascript": [
              "\n",
              "    async function download(id, filename, size) {\n",
              "      if (!google.colab.kernel.accessAllowed) {\n",
              "        return;\n",
              "      }\n",
              "      const div = document.createElement('div');\n",
              "      const label = document.createElement('label');\n",
              "      label.textContent = `Downloading \"${filename}\": `;\n",
              "      div.appendChild(label);\n",
              "      const progress = document.createElement('progress');\n",
              "      progress.max = size;\n",
              "      div.appendChild(progress);\n",
              "      document.body.appendChild(div);\n",
              "\n",
              "      const buffers = [];\n",
              "      let downloaded = 0;\n",
              "\n",
              "      const channel = await google.colab.kernel.comms.open(id);\n",
              "      // Send a message to notify the kernel that we're ready.\n",
              "      channel.send({})\n",
              "\n",
              "      for await (const message of channel.messages) {\n",
              "        // Send a message to notify the kernel that we're ready.\n",
              "        channel.send({})\n",
              "        if (message.buffers) {\n",
              "          for (const buffer of message.buffers) {\n",
              "            buffers.push(buffer);\n",
              "            downloaded += buffer.byteLength;\n",
              "            progress.value = downloaded;\n",
              "          }\n",
              "        }\n",
              "      }\n",
              "      const blob = new Blob(buffers, {type: 'application/binary'});\n",
              "      const a = document.createElement('a');\n",
              "      a.href = window.URL.createObjectURL(blob);\n",
              "      a.download = filename;\n",
              "      div.appendChild(a);\n",
              "      a.click();\n",
              "      div.remove();\n",
              "    }\n",
              "  "
            ]
          },
          "metadata": {}
        },
        {
          "output_type": "display_data",
          "data": {
            "text/plain": [
              "<IPython.core.display.Javascript object>"
            ],
            "application/javascript": [
              "download(\"download_7a12d90b-10fb-4149-9dec-9fce68efe99d\", \"graph_1.png\", 16634)"
            ]
          },
          "metadata": {}
        },
        {
          "output_type": "display_data",
          "data": {
            "text/plain": [
              "<Figure size 640x480 with 1 Axes>"
            ],
            "image/png": "[encoded data removed]"
          },
          "metadata": {}
        },
        {
          "output_type": "stream",
          "name": "stdout",
          "text": [
            "2\n",
            "[[2], [4], [0], [], [1], [], [], [], [], []]\n",
            "Cycle is present\n",
            "{'(0,2)': 17, '(1,4)': 17, '(5,6)': 21, '(6,7)': 25, '(8,9)': 26, '(8,7)': 28, '(0,5)': 29, '(0,1)': 32, '(0,3)': 39}\n",
            "0\n",
            "1\n",
            "2\n",
            "3\n",
            "4\n",
            "5\n",
            "6\n",
            "7\n",
            "8\n",
            "9\n",
            "10\n",
            "11\n",
            "12\n",
            "13\n",
            "14\n",
            "15\n",
            "16\n",
            "17\n",
            "Saved graph as graph_2.png\n"
          ]
        },
        {
          "output_type": "display_data",
          "data": {
            "text/plain": [
              "<IPython.core.display.Javascript object>"
            ],
            "application/javascript": [
              "\n",
              "    async function download(id, filename, size) {\n",
              "      if (!google.colab.kernel.accessAllowed) {\n",
              "        return;\n",
              "      }\n",
              "      const div = document.createElement('div');\n",
              "      const label = document.createElement('label');\n",
              "      label.textContent = `Downloading \"${filename}\": `;\n",
              "      div.appendChild(label);\n",
              "      const progress = document.createElement('progress');\n",
              "      progress.max = size;\n",
              "      div.appendChild(progress);\n",
              "      document.body.appendChild(div);\n",
              "\n",
              "      const buffers = [];\n",
              "      let downloaded = 0;\n",
              "\n",
              "      const channel = await google.colab.kernel.comms.open(id);\n",
              "      // Send a message to notify the kernel that we're ready.\n",
              "      channel.send({})\n",
              "\n",
              "      for await (const message of channel.messages) {\n",
              "        // Send a message to notify the kernel that we're ready.\n",
              "        channel.send({})\n",
              "        if (message.buffers) {\n",
              "          for (const buffer of message.buffers) {\n",
              "            buffers.push(buffer);\n",
              "            downloaded += buffer.byteLength;\n",
              "            progress.value = downloaded;\n",
              "          }\n",
              "        }\n",
              "      }\n",
              "      const blob = new Blob(buffers, {type: 'application/binary'});\n",
              "      const a = document.createElement('a');\n",
              "      a.href = window.URL.createObjectURL(blob);\n",
              "      a.download = filename;\n",
              "      div.appendChild(a);\n",
              "      a.click();\n",
              "      div.remove();\n",
              "    }\n",
              "  "
            ]
          },
          "metadata": {}
        },
        {
          "output_type": "display_data",
          "data": {
            "text/plain": [
              "<IPython.core.display.Javascript object>"
            ],
            "application/javascript": [
              "download(\"download_e68bb59f-981c-4d00-a6da-beb99b7417e8\", \"graph_2.png\", 16760)"
            ]
          },
          "metadata": {}
        },
        {
          "output_type": "display_data",
          "data": {
            "text/plain": [
              "<Figure size 640x480 with 1 Axes>"
            ],
            "image/png": "[encoded data removed]"
          },
          "metadata": {}
        },
        {
          "output_type": "stream",
          "name": "stdout",
          "text": [
            "3\n",
            "[[2], [4], [0], [], [1], [6], [5], [], [], []]\n",
            "Cycle is present\n",
            "{'(0,2)': 17, '(1,4)': 17, '(5,6)': 21, '(6,7)': 25, '(8,9)': 26, '(8,7)': 28, '(0,5)': 29, '(0,1)': 32, '(0,3)': 39}\n",
            "0\n",
            "1\n",
            "2\n",
            "3\n",
            "4\n",
            "5\n",
            "6\n",
            "7\n",
            "8\n",
            "9\n",
            "10\n",
            "11\n",
            "12\n",
            "13\n",
            "14\n",
            "15\n",
            "16\n",
            "17\n",
            "Saved graph as graph_3.png\n"
          ]
        },
        {
          "output_type": "display_data",
          "data": {
            "text/plain": [
              "<IPython.core.display.Javascript object>"
            ],
            "application/javascript": [
              "\n",
              "    async function download(id, filename, size) {\n",
              "      if (!google.colab.kernel.accessAllowed) {\n",
              "        return;\n",
              "      }\n",
              "      const div = document.createElement('div');\n",
              "      const label = document.createElement('label');\n",
              "      label.textContent = `Downloading \"${filename}\": `;\n",
              "      div.appendChild(label);\n",
              "      const progress = document.createElement('progress');\n",
              "      progress.max = size;\n",
              "      div.appendChild(progress);\n",
              "      document.body.appendChild(div);\n",
              "\n",
              "      const buffers = [];\n",
              "      let downloaded = 0;\n",
              "\n",
              "      const channel = await google.colab.kernel.comms.open(id);\n",
              "      // Send a message to notify the kernel that we're ready.\n",
              "      channel.send({})\n",
              "\n",
              "      for await (const message of channel.messages) {\n",
              "        // Send a message to notify the kernel that we're ready.\n",
              "        channel.send({})\n",
              "        if (message.buffers) {\n",
              "          for (const buffer of message.buffers) {\n",
              "            buffers.push(buffer);\n",
              "            downloaded += buffer.byteLength;\n",
              "            progress.value = downloaded;\n",
              "          }\n",
              "        }\n",
              "      }\n",
              "      const blob = new Blob(buffers, {type: 'application/binary'});\n",
              "      const a = document.createElement('a');\n",
              "      a.href = window.URL.createObjectURL(blob);\n",
              "      a.download = filename;\n",
              "      div.appendChild(a);\n",
              "      a.click();\n",
              "      div.remove();\n",
              "    }\n",
              "  "
            ]
          },
          "metadata": {}
        },
        {
          "output_type": "display_data",
          "data": {
            "text/plain": [
              "<IPython.core.display.Javascript object>"
            ],
            "application/javascript": [
              "download(\"download_70a4c60a-7014-47ae-ba71-cd9baed8354c\", \"graph_3.png\", 16910)"
            ]
          },
          "metadata": {}
        },
        {
          "output_type": "display_data",
          "data": {
            "text/plain": [
              "<Figure size 640x480 with 1 Axes>"
            ],
            "image/png": "[encoded data removed]"
          },
          "metadata": {}
        },
        {
          "output_type": "stream",
          "name": "stdout",
          "text": [
            "4\n",
            "[[2], [4], [0], [], [1], [6], [5, 7], [6], [], []]\n",
            "Cycle is present\n",
            "{'(0,2)': 17, '(1,4)': 17, '(5,6)': 21, '(6,7)': 25, '(8,9)': 26, '(8,7)': 28, '(0,5)': 29, '(0,1)': 32, '(0,3)': 39}\n",
            "0\n",
            "1\n",
            "2\n",
            "3\n",
            "4\n",
            "5\n",
            "6\n",
            "7\n",
            "8\n",
            "9\n",
            "10\n",
            "11\n",
            "12\n",
            "13\n",
            "14\n",
            "15\n",
            "16\n",
            "17\n",
            "Saved graph as graph_4.png\n"
          ]
        },
        {
          "output_type": "display_data",
          "data": {
            "text/plain": [
              "<IPython.core.display.Javascript object>"
            ],
            "application/javascript": [
              "\n",
              "    async function download(id, filename, size) {\n",
              "      if (!google.colab.kernel.accessAllowed) {\n",
              "        return;\n",
              "      }\n",
              "      const div = document.createElement('div');\n",
              "      const label = document.createElement('label');\n",
              "      label.textContent = `Downloading \"${filename}\": `;\n",
              "      div.appendChild(label);\n",
              "      const progress = document.createElement('progress');\n",
              "      progress.max = size;\n",
              "      div.appendChild(progress);\n",
              "      document.body.appendChild(div);\n",
              "\n",
              "      const buffers = [];\n",
              "      let downloaded = 0;\n",
              "\n",
              "      const channel = await google.colab.kernel.comms.open(id);\n",
              "      // Send a message to notify the kernel that we're ready.\n",
              "      channel.send({})\n",
              "\n",
              "      for await (const message of channel.messages) {\n",
              "        // Send a message to notify the kernel that we're ready.\n",
              "        channel.send({})\n",
              "        if (message.buffers) {\n",
              "          for (const buffer of message.buffers) {\n",
              "            buffers.push(buffer);\n",
              "            downloaded += buffer.byteLength;\n",
              "            progress.value = downloaded;\n",
              "          }\n",
              "        }\n",
              "      }\n",
              "      const blob = new Blob(buffers, {type: 'application/binary'});\n",
              "      const a = document.createElement('a');\n",
              "      a.href = window.URL.createObjectURL(blob);\n",
              "      a.download = filename;\n",
              "      div.appendChild(a);\n",
              "      a.click();\n",
              "      div.remove();\n",
              "    }\n",
              "  "
            ]
          },
          "metadata": {}
        },
        {
          "output_type": "display_data",
          "data": {
            "text/plain": [
              "<IPython.core.display.Javascript object>"
            ],
            "application/javascript": [
              "download(\"download_1fe12738-16ae-4e85-8a12-ad0b0edd2d01\", \"graph_4.png\", 16997)"
            ]
          },
          "metadata": {}
        },
        {
          "output_type": "display_data",
          "data": {
            "text/plain": [
              "<Figure size 640x480 with 1 Axes>"
            ],
            "image/png": "[encoded data removed]"
          },
          "metadata": {}
        },
        {
          "output_type": "stream",
          "name": "stdout",
          "text": [
            "5\n",
            "[[2], [4], [0], [], [1], [6], [5, 7], [6], [9], [8]]\n",
            "Cycle is present\n",
            "{'(0,2)': 17, '(1,4)': 17, '(5,6)': 21, '(6,7)': 25, '(8,9)': 26, '(8,7)': 28, '(0,5)': 29, '(0,1)': 32, '(0,3)': 39}\n",
            "0\n",
            "1\n",
            "2\n",
            "3\n",
            "4\n",
            "5\n",
            "6\n",
            "7\n",
            "8\n",
            "9\n",
            "10\n",
            "11\n",
            "12\n",
            "13\n",
            "14\n",
            "15\n",
            "16\n",
            "17\n",
            "Saved graph as graph_5.png\n"
          ]
        },
        {
          "output_type": "display_data",
          "data": {
            "text/plain": [
              "<IPython.core.display.Javascript object>"
            ],
            "application/javascript": [
              "\n",
              "    async function download(id, filename, size) {\n",
              "      if (!google.colab.kernel.accessAllowed) {\n",
              "        return;\n",
              "      }\n",
              "      const div = document.createElement('div');\n",
              "      const label = document.createElement('label');\n",
              "      label.textContent = `Downloading \"${filename}\": `;\n",
              "      div.appendChild(label);\n",
              "      const progress = document.createElement('progress');\n",
              "      progress.max = size;\n",
              "      div.appendChild(progress);\n",
              "      document.body.appendChild(div);\n",
              "\n",
              "      const buffers = [];\n",
              "      let downloaded = 0;\n",
              "\n",
              "      const channel = await google.colab.kernel.comms.open(id);\n",
              "      // Send a message to notify the kernel that we're ready.\n",
              "      channel.send({})\n",
              "\n",
              "      for await (const message of channel.messages) {\n",
              "        // Send a message to notify the kernel that we're ready.\n",
              "        channel.send({})\n",
              "        if (message.buffers) {\n",
              "          for (const buffer of message.buffers) {\n",
              "            buffers.push(buffer);\n",
              "            downloaded += buffer.byteLength;\n",
              "            progress.value = downloaded;\n",
              "          }\n",
              "        }\n",
              "      }\n",
              "      const blob = new Blob(buffers, {type: 'application/binary'});\n",
              "      const a = document.createElement('a');\n",
              "      a.href = window.URL.createObjectURL(blob);\n",
              "      a.download = filename;\n",
              "      div.appendChild(a);\n",
              "      a.click();\n",
              "      div.remove();\n",
              "    }\n",
              "  "
            ]
          },
          "metadata": {}
        },
        {
          "output_type": "display_data",
          "data": {
            "text/plain": [
              "<IPython.core.display.Javascript object>"
            ],
            "application/javascript": [
              "download(\"download_15252427-28b9-4a0d-953f-1618401348a7\", \"graph_5.png\", 17183)"
            ]
          },
          "metadata": {}
        },
        {
          "output_type": "display_data",
          "data": {
            "text/plain": [
              "<Figure size 640x480 with 1 Axes>"
            ],
            "image/png": "[encoded data removed]"
          },
          "metadata": {}
        },
        {
          "output_type": "stream",
          "name": "stdout",
          "text": [
            "6\n",
            "[[2], [4], [0], [], [1], [6], [5, 7], [6, 8], [9, 7], [8]]\n",
            "Cycle is present\n",
            "{'(0,2)': 17, '(1,4)': 17, '(5,6)': 21, '(6,7)': 25, '(8,9)': 26, '(8,7)': 28, '(0,5)': 29, '(0,1)': 32, '(0,3)': 39}\n",
            "0\n",
            "1\n",
            "2\n",
            "3\n",
            "4\n",
            "5\n",
            "6\n",
            "7\n",
            "8\n",
            "9\n",
            "10\n",
            "11\n",
            "12\n",
            "13\n",
            "14\n",
            "15\n",
            "16\n",
            "17\n",
            "Saved graph as graph_6.png\n"
          ]
        },
        {
          "output_type": "display_data",
          "data": {
            "text/plain": [
              "<IPython.core.display.Javascript object>"
            ],
            "application/javascript": [
              "\n",
              "    async function download(id, filename, size) {\n",
              "      if (!google.colab.kernel.accessAllowed) {\n",
              "        return;\n",
              "      }\n",
              "      const div = document.createElement('div');\n",
              "      const label = document.createElement('label');\n",
              "      label.textContent = `Downloading \"${filename}\": `;\n",
              "      div.appendChild(label);\n",
              "      const progress = document.createElement('progress');\n",
              "      progress.max = size;\n",
              "      div.appendChild(progress);\n",
              "      document.body.appendChild(div);\n",
              "\n",
              "      const buffers = [];\n",
              "      let downloaded = 0;\n",
              "\n",
              "      const channel = await google.colab.kernel.comms.open(id);\n",
              "      // Send a message to notify the kernel that we're ready.\n",
              "      channel.send({})\n",
              "\n",
              "      for await (const message of channel.messages) {\n",
              "        // Send a message to notify the kernel that we're ready.\n",
              "        channel.send({})\n",
              "        if (message.buffers) {\n",
              "          for (const buffer of message.buffers) {\n",
              "            buffers.push(buffer);\n",
              "            downloaded += buffer.byteLength;\n",
              "            progress.value = downloaded;\n",
              "          }\n",
              "        }\n",
              "      }\n",
              "      const blob = new Blob(buffers, {type: 'application/binary'});\n",
              "      const a = document.createElement('a');\n",
              "      a.href = window.URL.createObjectURL(blob);\n",
              "      a.download = filename;\n",
              "      div.appendChild(a);\n",
              "      a.click();\n",
              "      div.remove();\n",
              "    }\n",
              "  "
            ]
          },
          "metadata": {}
        },
        {
          "output_type": "display_data",
          "data": {
            "text/plain": [
              "<IPython.core.display.Javascript object>"
            ],
            "application/javascript": [
              "download(\"download_27e0993b-49ef-45c6-941c-ef54f270f108\", \"graph_6.png\", 17265)"
            ]
          },
          "metadata": {}
        },
        {
          "output_type": "display_data",
          "data": {
            "text/plain": [
              "<Figure size 640x480 with 1 Axes>"
            ],
            "image/png": "[encoded data removed]"
          },
          "metadata": {}
        },
        {
          "output_type": "stream",
          "name": "stdout",
          "text": [
            "7\n",
            "[[2, 5], [4], [0], [], [1], [6, 0], [5, 7], [6, 8], [9, 7], [8]]\n",
            "Cycle is present\n",
            "{'(0,2)': 17, '(1,4)': 17, '(5,6)': 21, '(6,7)': 25, '(8,9)': 26, '(8,7)': 28, '(0,5)': 29, '(0,1)': 32, '(0,3)': 39}\n",
            "0\n",
            "1\n",
            "2\n",
            "3\n",
            "4\n",
            "5\n",
            "6\n",
            "7\n",
            "8\n",
            "9\n",
            "10\n",
            "11\n",
            "12\n",
            "13\n",
            "14\n",
            "15\n",
            "16\n",
            "17\n",
            "Saved graph as graph_7.png\n"
          ]
        },
        {
          "output_type": "display_data",
          "data": {
            "text/plain": [
              "<IPython.core.display.Javascript object>"
            ],
            "application/javascript": [
              "\n",
              "    async function download(id, filename, size) {\n",
              "      if (!google.colab.kernel.accessAllowed) {\n",
              "        return;\n",
              "      }\n",
              "      const div = document.createElement('div');\n",
              "      const label = document.createElement('label');\n",
              "      label.textContent = `Downloading \"${filename}\": `;\n",
              "      div.appendChild(label);\n",
              "      const progress = document.createElement('progress');\n",
              "      progress.max = size;\n",
              "      div.appendChild(progress);\n",
              "      document.body.appendChild(div);\n",
              "\n",
              "      const buffers = [];\n",
              "      let downloaded = 0;\n",
              "\n",
              "      const channel = await google.colab.kernel.comms.open(id);\n",
              "      // Send a message to notify the kernel that we're ready.\n",
              "      channel.send({})\n",
              "\n",
              "      for await (const message of channel.messages) {\n",
              "        // Send a message to notify the kernel that we're ready.\n",
              "        channel.send({})\n",
              "        if (message.buffers) {\n",
              "          for (const buffer of message.buffers) {\n",
              "            buffers.push(buffer);\n",
              "            downloaded += buffer.byteLength;\n",
              "            progress.value = downloaded;\n",
              "          }\n",
              "        }\n",
              "      }\n",
              "      const blob = new Blob(buffers, {type: 'application/binary'});\n",
              "      const a = document.createElement('a');\n",
              "      a.href = window.URL.createObjectURL(blob);\n",
              "      a.download = filename;\n",
              "      div.appendChild(a);\n",
              "      a.click();\n",
              "      div.remove();\n",
              "    }\n",
              "  "
            ]
          },
          "metadata": {}
        },
        {
          "output_type": "display_data",
          "data": {
            "text/plain": [
              "<IPython.core.display.Javascript object>"
            ],
            "application/javascript": [
              "download(\"download_036e585f-896c-437b-87e1-8accf48ca1cd\", \"graph_7.png\", 17609)"
            ]
          },
          "metadata": {}
        },
        {
          "output_type": "display_data",
          "data": {
            "text/plain": [
              "<Figure size 640x480 with 1 Axes>"
            ],
            "image/png": "[encoded data removed]"
          },
          "metadata": {}
        },
        {
          "output_type": "stream",
          "name": "stdout",
          "text": [
            "8\n",
            "[[2, 5, 1], [4, 0], [0], [], [1], [6, 0], [5, 7], [6, 8], [9, 7], [8]]\n",
            "Cycle is present\n",
            "{'(0,2)': 17, '(1,4)': 17, '(5,6)': 21, '(6,7)': 25, '(8,9)': 26, '(8,7)': 28, '(0,5)': 29, '(0,1)': 32, '(0,3)': 39}\n",
            "0\n",
            "1\n",
            "2\n",
            "3\n",
            "4\n",
            "5\n",
            "6\n",
            "7\n",
            "8\n",
            "9\n",
            "10\n",
            "11\n",
            "12\n",
            "13\n",
            "14\n",
            "15\n",
            "16\n",
            "17\n",
            "Saved graph as graph_8.png\n"
          ]
        },
        {
          "output_type": "display_data",
          "data": {
            "text/plain": [
              "<IPython.core.display.Javascript object>"
            ],
            "application/javascript": [
              "\n",
              "    async function download(id, filename, size) {\n",
              "      if (!google.colab.kernel.accessAllowed) {\n",
              "        return;\n",
              "      }\n",
              "      const div = document.createElement('div');\n",
              "      const label = document.createElement('label');\n",
              "      label.textContent = `Downloading \"${filename}\": `;\n",
              "      div.appendChild(label);\n",
              "      const progress = document.createElement('progress');\n",
              "      progress.max = size;\n",
              "      div.appendChild(progress);\n",
              "      document.body.appendChild(div);\n",
              "\n",
              "      const buffers = [];\n",
              "      let downloaded = 0;\n",
              "\n",
              "      const channel = await google.colab.kernel.comms.open(id);\n",
              "      // Send a message to notify the kernel that we're ready.\n",
              "      channel.send({})\n",
              "\n",
              "      for await (const message of channel.messages) {\n",
              "        // Send a message to notify the kernel that we're ready.\n",
              "        channel.send({})\n",
              "        if (message.buffers) {\n",
              "          for (const buffer of message.buffers) {\n",
              "            buffers.push(buffer);\n",
              "            downloaded += buffer.byteLength;\n",
              "            progress.value = downloaded;\n",
              "          }\n",
              "        }\n",
              "      }\n",
              "      const blob = new Blob(buffers, {type: 'application/binary'});\n",
              "      const a = document.createElement('a');\n",
              "      a.href = window.URL.createObjectURL(blob);\n",
              "      a.download = filename;\n",
              "      div.appendChild(a);\n",
              "      a.click();\n",
              "      div.remove();\n",
              "    }\n",
              "  "
            ]
          },
          "metadata": {}
        },
        {
          "output_type": "display_data",
          "data": {
            "text/plain": [
              "<IPython.core.display.Javascript object>"
            ],
            "application/javascript": [
              "download(\"download_21100262-c55a-4af0-9223-fa08951b9050\", \"graph_8.png\", 18196)"
            ]
          },
          "metadata": {}
        },
        {
          "output_type": "display_data",
          "data": {
            "text/plain": [
              "<Figure size 640x480 with 1 Axes>"
            ],
            "image/png": "[encoded data removed]"
          },
          "metadata": {}
        },
        {
          "output_type": "stream",
          "name": "stdout",
          "text": [
            "{'(0,2)': 17, '(1,4)': 17, '(5,6)': 21, '(6,7)': 25, '(8,9)': 26, '(8,7)': 28, '(0,5)': 29, '(0,1)': 32, '(0,3)': 39}\n"
          ]
        }
      ],
      "source": [
        "'''{'CoOrdinatesOfVertices': [(93, 53), (193, 82), (7, 60), (182, 16), (0, 0), (83, 28)],\n",
        " 'verticeNames': ['A', 'B', 'C', 'D', 'E', 'F'],\n",
        " 'edges': [{0, 1}, {0, 2}, {0, 3}, {0, 5}, {1, 3}, {2, 4}, {3, 5}, {4, 5}],\n",
        " 'edgeColor': {'(0,1)': 'blue', '(0,2)': 'blue', '(0,3)': 'blue', '(0,5)': 'blue',\n",
        " '(1,3)': 'blue', '(2,4)': 'blue', '(3,5)': 'blue', '(4,5)': 'blue'},\n",
        " 'sphereColor': {'(0,1)': 'blue', '(0,2)': 'blue', '(0,3)': 'blue', '(0,5)': 'blue', '(1,3)': 'blue', '(2,4)': 'blue', '(3,5)': 'blue', '(4,5)': 'blue'},\n",
        " 'textOnEdge': ['temp', 'temp', 'temp', 'temp', 'temp', 'temp', 'temp', 'temp'],\n",
        " 'toShowEdgeOrNot': ['1', '1', '1', '1', '1', '1', '1', '1']}'''\n",
        "def kruskal(matrix):\n",
        "  list_of_all_nodes_we_can_visit_from_this_node=[]\n",
        "  for i in range(len(matrix)):\n",
        "    list_of_all_nodes_we_can_visit_from_this_node.append([])\n",
        "  print(list_of_all_nodes_we_can_visit_from_this_node)\n",
        "  info = makeInitialInfo(matrix)\n",
        "  disOfEdges = {}\n",
        "  for edge1 in info['edges']:\n",
        "    edge = list(edge1)\n",
        "    x_values = [info['CoOrdinatesOfVertices'][edge[0]][0], info['CoOrdinatesOfVertices'][edge[1]][0]]\n",
        "    y_values = [info['CoOrdinatesOfVertices'][edge[0]][1], info['CoOrdinatesOfVertices'][edge[1]][1]]\n",
        "    distance = int(np.sqrt((x_values[1] - x_values[0])**2 + (y_values[1] - y_values[0])**2))\n",
        "    tempEdgeInfo = f'({edge[0]},{edge[1]})'\n",
        "    disOfEdges[tempEdgeInfo]=distance\n",
        "  tempDisOfEdges=disOfEdges\n",
        "  disOfEdges = dict(sorted(tempDisOfEdges.items(), key=lambda item: item[1]))\n",
        "  allVisited=0\n",
        "  for key,value in disOfEdges.items():\n",
        "    print(allVisited)\n",
        "    if allVisited==len(info['verticeNames'])-1:\n",
        "      print('tree is complete')\n",
        "      break\n",
        "    print(list_of_all_nodes_we_can_visit_from_this_node)\n",
        "    isCycle=0\n",
        "    list_of_all_nodes_we_can_visit_from_this_node[int(key[1])].append(int(key[3]))\n",
        "    list_of_all_nodes_we_can_visit_from_this_node[int(key[3])].append(int(key[1]))\n",
        "    tempInt=0\n",
        "    for tempList in list_of_all_nodes_we_can_visit_from_this_node:\n",
        "      if tempInt in tempList:\n",
        "        print('Cycle is present')\n",
        "        break\n",
        "    print(disOfEdges)\n",
        "    if isCycle==0:\n",
        "      info['edgeColor'][key] = 'green'\n",
        "      allVisited=allVisited+1\n",
        "    drawGraph(info)\n",
        "  print(disOfEdges)\n",
        "  #drawGraph(info)\n",
        "\n",
        "kruskal(matrix)"
      ]
    },
    {
      "cell_type": "code",
      "source": [],
      "metadata": {
        "id": "GMqwFZ8Puo8T"
      },
      "execution_count": null,
      "outputs": []
    },
    {
      "cell_type": "code",
      "source": [],
      "metadata": {
        "id": "Zz0S_rtpuqdd"
      },
      "execution_count": null,
      "outputs": []
    }
  ],
  "metadata": {
    "colab": {
      "provenance": []
    },
    "kernelspec": {
      "display_name": "Python 3",
      "name": "python3"
    },
    "language_info": {
      "name": "python"
    }
  },
  "nbformat": 4,
  "nbformat_minor": 0
}